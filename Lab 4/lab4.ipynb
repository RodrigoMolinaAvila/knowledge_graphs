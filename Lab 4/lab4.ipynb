{
 "cells": [
  {
   "cell_type": "markdown",
   "id": "503dba6d",
   "metadata": {},
   "source": [
    "El laboratorio se ejecutar ́a en el servicio de consultas de Wikidata (https://query.wikidata.org/). Puede usar el buscador de texto de Wikidata para encontrar los c ́odigos Q de las entidades\n",
    "involucradas en las consultas. Debe entregar un archivo de texto con las consultas SPARQL gener-\n",
    "adas. Cuando se le pidan las etiquetas de algo, debe usar la siguiente instrucci ́on en las consultas,\n",
    "para obtenerlas en espa ̃nol:\n",
    "SERVICE wikibase:label { bd:serviceParam wikibase:language \"es,en\". }"
   ]
  },
  {
   "cell_type": "markdown",
   "id": "5904af46",
   "metadata": {},
   "source": [
    "P1. 4 puntos Escriba una consulta que obtenga el Q-code de las entidades que tengan etiqueta\n",
    "(rdfs:label) “Universidad de Chile”. ¿Cu ́al de los resultados es la Universidad?"
   ]
  },
  {
   "cell_type": "code",
   "execution_count": null,
   "id": "6b29af34",
   "metadata": {
    "vscode": {
     "languageId": "plaintext"
    }
   },
   "outputs": [],
   "source": [
    "SELECT ?entidad ?entidadLabel WHERE {\n",
    "    ?entidad rdfs:label \"Universidad de Chile\"@es.\n",
    "    SERVICE wikibase:label { bd:servi0ceParam wikibase:language \"es,en\". }\n",
    "}"
   ]
  },
  {
   "cell_type": "markdown",
   "id": "b016aa23",
   "metadata": {
    "vscode": {
     "languageId": "plaintext"
    }
   },
   "source": [
    "P2. 5 puntos Encuentre la cadena de clases las que la Universidad de Chile es una instancia\n",
    "(use el Q-code encontrado en la pregunta anterior)."
   ]
  },
  {
   "cell_type": "code",
   "execution_count": null,
   "id": "661aa0f3",
   "metadata": {
    "vscode": {
     "languageId": "plaintext"
    }
   },
   "outputs": [],
   "source": [
    "SELECT ?clase ?claseLabel WHERE {\n",
    "    wd:Q12345 wdt:P31 ?clase.\n",
    "    SERVICE wikibase:label { bd:serviceParam wikibase:language \"es,en\". }\n",
    "}"
   ]
  },
  {
   "cell_type": "markdown",
   "id": "c1f7b642",
   "metadata": {
    "vscode": {
     "languageId": "plaintext"
    }
   },
   "source": [
    "P3. 5 puntos Encuentre las etiquetas de las universidades de Am ́erica del Sur que fueron fun-\n",
    "dadas en un a ̃no anterior al a ̃no de fundaci ́on de la Universidad de Chile."
   ]
  },
  {
   "cell_type": "markdown",
   "id": "ea83b79c",
   "metadata": {
    "vscode": {
     "languageId": "plaintext"
    }
   },
   "source": [
    "P4. 7 puntos Obtenga las etiquetas de las personas que estudiaron en la Universidad de Chile\n",
    "y en otra universidad chilena. Obtenga tambi ́en la etiqueta de la otra universidad"
   ]
  },
  {
   "cell_type": "markdown",
   "id": "354a094c",
   "metadata": {},
   "source": [
    "P5. 7 puntos Cuente cu ́antos ex alumnos de la Universidad de Chile hay por cada ocupaci ́on\n",
    "distinta entre las disponibles en ese universo de personas. Ordene por cantidad de mayor a\n",
    "menor."
   ]
  },
  {
   "cell_type": "markdown",
   "id": "88a9807c",
   "metadata": {},
   "source": [
    "P6. 10 puntos Obtenga las etiquetas de las personas que hayan estudiado o trabajado en la\n",
    "Universidad de Chile. Para los estudiantes agregue una columna que contenga el valor “estu-\n",
    "diante” y para los trabajadores que diga “trabajador”."
   ]
  },
  {
   "cell_type": "markdown",
   "id": "228fcc10",
   "metadata": {},
   "source": [
    "P7. 10 puntos Extienda la consulta anterior para obtener la fecha y pa ́ıs de nacimiento, para\n",
    "cada persona, solo si est ́a disponible. Debe retornar solo la etiqueta de la persona, del pa ́ıs y\n",
    "la fecha de nacimiento."
   ]
  },
  {
   "cell_type": "markdown",
   "id": "8096324c",
   "metadata": {},
   "source": [
    "P8. 12 puntos Encuentre, entre los ex alumnos de la Universidad de Chile, a aquellos que a ́un\n",
    "est ́an vivos y que tienen una edad mayor al promedio de edad de los ex alumnos vivos."
   ]
  }
 ],
 "metadata": {
  "language_info": {
   "name": "python"
  }
 },
 "nbformat": 4,
 "nbformat_minor": 5
}
